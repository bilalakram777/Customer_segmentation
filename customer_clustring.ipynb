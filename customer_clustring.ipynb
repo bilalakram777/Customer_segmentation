import pandas as pd
import numpy as np
import matplotlib.pyplot as plt
import seaborn as sns
from sklearn.cluster import KMeans
from sklearn.preprocessing import StandardScaler
from sklearn.decomposition import PCA
from scipy.cluster.hierarchy import dendrogram, linkage

#Dataset
data = pd.read_csv('Mall_Customers.csv')
print(data.head())

 Check for missing values
print("Missing values in each column:")
print(data.isnull().sum())

# Summary statistics
print("\nSummary statistics:")
print(data.describe())

# Check the column names to ensure they are correct
print("\nColumn names:")
print(data.columns)

data.columns = data.columns.str.strip()

# Visualize the distribution of numerical features
sns.histplot(data['Age'], bins=20, kde=True)
plt.title('Age Distribution')
plt.show()

features = data[['Age', 'Annual Income (k$)', 'Spending Score (1-100)']]
scaler = StandardScaler()
scaled_features = scaler.fit_transform(features)

# number of clusters
inertia = []
K = range(1, 11)
for k in K:
    kmeans = KMeans(n_clusters=k, random_state=42)
    kmeans.fit(scaled_features)
    inertia.append(kmeans.inertia_)

# Plot the elbow curve
plt.figure(figsize=(10, 6))
plt.plot(K, inertia, marker='o')
plt.title('Elbow Method for Optimal k')
plt.xlabel('Number of clusters')
plt.ylabel('Inertia')
plt.show()

# Fit K-Means 
optimal_k = 5
kmeans = KMeans(n_clusters=optimal_k, random_state=42)
data['Cluster'] = kmeans.fit_predict(scaled_features)


pca = PCA(n_components=2)
pca_result = pca.fit_transform(scaled_features)
# DataFrame for PCA results
pca_df = pd.DataFrame(data=pca_result, columns=['PCA1', 'PCA2'])
pca_df['Cluster'] = data['Cluster']

# Plot of clusters
plt.figure(figsize=(10, 6))
sns.scatterplot(x='PCA1', y='PCA2', hue='Cluster', data=pca_df, palette='Set1', s=100)
plt.title('Customer Segments Visualization')
plt.xlabel('PCA Component 1')
plt.ylabel('PCA Component 2')
plt.legend(title='Cluster')
plt.show()

numeric_columns = data.select_dtypes(include=['number']).columns 
cluster_summary = data.groupby('Cluster')[numeric_columns].mean() 
print("\nCluster summary (mean values):")
print(cluster_summary)

# Visualization
sns.barplot(x=cluster_summary.index, y=cluster_summary['Spending Score (1-100)'])
plt.title('Average Spending Score by Cluster')
plt.xlabel('Cluster')
plt.ylabel('Average Spending Score')
plt.show()

sns.barplot(x=cluster_summary.index, y=cluster_summary['Annual Income (k$)'])
plt.title('Average Annual Income by Cluster')
plt.xlabel('Cluster')
plt.ylabel('Average Annual Income (k$)')
plt.show()

mport pickle
# Save the model
with open('customer_segmentation_model.pkl', 'wb') as file:
    pickle.dump(kmeans, file)
